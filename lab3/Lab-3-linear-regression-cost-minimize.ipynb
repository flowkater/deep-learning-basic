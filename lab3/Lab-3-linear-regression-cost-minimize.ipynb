{
 "cells": [
  {
   "cell_type": "code",
   "execution_count": 38,
   "metadata": {
    "collapsed": true,
    "deletable": true,
    "editable": true
   },
   "outputs": [],
   "source": [
    "import tensorflow as tf"
   ]
  },
  {
   "cell_type": "code",
   "execution_count": 39,
   "metadata": {
    "collapsed": true
   },
   "outputs": [],
   "source": [
    "x_data = [1., 2., 3.]\n",
    "y_data = [1., 2., 3.]"
   ]
  },
  {
   "cell_type": "code",
   "execution_count": 40,
   "metadata": {
    "collapsed": false
   },
   "outputs": [],
   "source": [
    "# Try to find values for W and b that compute y_data = W * x_data + b\n",
    "# (We know that W should be 1 and b 0, but Tensorflow will figure that out for us.)\n",
    "# W\n",
    "W = tf.Variable(tf.random_uniform([1], -10, 10))\n",
    "# X\n",
    "X = tf.placeholder(tf.float32)\n",
    "# Y\n",
    "Y = tf.placeholder(tf.float32)"
   ]
  },
  {
   "cell_type": "code",
   "execution_count": 41,
   "metadata": {
    "collapsed": true
   },
   "outputs": [],
   "source": [
    "# Our hypothesis (Simplified hypothesis)\n",
    "hypothesis = W * X"
   ]
  },
  {
   "cell_type": "code",
   "execution_count": 42,
   "metadata": {
    "collapsed": true
   },
   "outputs": [],
   "source": [
    "# Simplified cost function\n",
    "cost = tf.reduce_mean(tf.square(hypothesis - Y))"
   ]
  },
  {
   "cell_type": "code",
   "execution_count": 43,
   "metadata": {
    "collapsed": true
   },
   "outputs": [],
   "source": [
    "# Minimize\n",
    "# **descent**\n",
    "descent = W - tf.mul(0.1, tf.reduce_mean(tf.mul(tf.mul(W, X) - Y, X)))\n",
    "# update\n",
    "update = W.assign(descent)"
   ]
  },
  {
   "cell_type": "code",
   "execution_count": 44,
   "metadata": {
    "collapsed": true
   },
   "outputs": [],
   "source": [
    "# Before starting, initializen the variables, We will 'run' this first.\n",
    "init = tf.global_variables_initializer()"
   ]
  },
  {
   "cell_type": "code",
   "execution_count": 45,
   "metadata": {
    "collapsed": false
   },
   "outputs": [],
   "source": [
    "# Launch Sessions\n",
    "sess = tf.Session()\n",
    "sess.run(init)"
   ]
  },
  {
   "cell_type": "code",
   "execution_count": 46,
   "metadata": {
    "collapsed": false
   },
   "outputs": [
    {
     "name": "stdout",
     "output_type": "stream",
     "text": [
      "0 [ 0.08514374] [ 0.08514374] 3.90582\n",
      "1 [ 0.73977423] [ 0.73977423] 0.316015\n",
      "2 [ 0.92598021] [ 0.92598021] 0.0255683\n",
      "3 [ 0.97894549] [ 0.97894549] 0.0020687\n",
      "4 [ 0.99401116] [ 0.99401116] 0.000167375\n",
      "5 [ 0.9982965] [ 0.9982965] 1.35423e-05\n",
      "6 [ 0.99951541] [ 0.99951541] 1.09596e-06\n",
      "7 [ 0.99986213] [ 0.99986213] 8.87153e-08\n",
      "8 [ 0.99996078] [ 0.99996078] 7.18761e-09\n",
      "9 [ 0.99998885] [ 0.99998885] 5.78435e-10\n",
      "10 [ 0.99999684] [ 0.99999684] 4.69491e-11\n",
      "11 [ 0.99999911] [ 0.99999911] 3.62495e-12\n",
      "12 [ 0.99999976] [ 0.99999976] 2.65269e-13\n",
      "13 [ 0.99999994] [ 0.99999994] 2.4869e-14\n",
      "14 [ 1.] [ 1.] 0.0\n",
      "15 [ 1.] [ 1.] 0.0\n",
      "16 [ 1.] [ 1.] 0.0\n",
      "17 [ 1.] [ 1.] 0.0\n",
      "18 [ 1.] [ 1.] 0.0\n",
      "19 [ 1.] [ 1.] 0.0\n"
     ]
    }
   ],
   "source": [
    "# Fit the line\n",
    "for step in range(20):\n",
    "    sess.run(update, feed_dict={X: x_data, Y: y_data})\n",
    "    print step, sess.run(update, feed_dict={X: x_data, Y: y_data}), sess.run(W), sess.run(cost, feed_dict={X: x_data, Y: y_data})"
   ]
  },
  {
   "cell_type": "code",
   "execution_count": null,
   "metadata": {
    "collapsed": true
   },
   "outputs": [],
   "source": []
  }
 ],
 "metadata": {
  "kernelspec": {
   "display_name": "Python 2",
   "language": "python",
   "name": "python2"
  },
  "language_info": {
   "codemirror_mode": {
    "name": "ipython",
    "version": 2
   },
   "file_extension": ".py",
   "mimetype": "text/x-python",
   "name": "python",
   "nbconvert_exporter": "python",
   "pygments_lexer": "ipython2",
   "version": "2.7.13"
  }
 },
 "nbformat": 4,
 "nbformat_minor": 2
}
